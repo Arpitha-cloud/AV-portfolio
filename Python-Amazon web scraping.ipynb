{
 "cells": [
  {
   "cell_type": "code",
   "execution_count": 1,
   "id": "e3cc0a70",
   "metadata": {},
   "outputs": [],
   "source": [
    "# import libraries \n",
    "from bs4 import BeautifulSoup\n",
    "import requests\n",
    "import time\n",
    "import datetime\n",
    "import smtplib"
   ]
  },
  {
   "cell_type": "code",
   "execution_count": 2,
   "id": "302ece8a",
   "metadata": {},
   "outputs": [
    {
     "name": "stdout",
     "output_type": "stream",
     "text": [
      "\n",
      "                   Science Doesnt Care What You Believe Science T-Shirt\n",
      "                  \n",
      "\n",
      "\n",
      "\n",
      "\n",
      "\n",
      "                  $16.99\n",
      "                 \n",
      "\n",
      "\n",
      "                   $\n",
      "                  \n",
      "\n",
      "                   16\n",
      "                   \n",
      "                    .\n",
      "                   \n",
      "\n",
      "\n",
      "                   99\n",
      "                  \n",
      "\n",
      "\n",
      "\n",
      "\n",
      "\n",
      "\n",
      "\n",
      "\n",
      "\n",
      "\n",
      "\n",
      "\n"
     ]
    }
   ],
   "source": [
    "# Connect to Website and pull in data\n",
    "URL='https://www.amazon.com/dp/B0828K9D5D/ref=sspa_dk_detail_3?psc=1&pd_rd_i=B0828K9D5D&pd_rd_w=NCJCD&content-id=amzn1.sym.bff6e147-54ad-4be3-b4ea-ec19ea6167f7&pf_rd_p=bff6e147-54ad-4be3-b4ea-ec19ea6167f7&pf_rd_r=8QK4KHKWXASGC3NV9329&pd_rd_wg=llRcM&pd_rd_r=f0e8eb19-bb98-4ee1-99d7-d54144530d06&s=apparel&sp_csd=d2lkZ2V0TmFtZT1zcF9kZXRhaWwy&spLa=ZW5jcnlwdGVkUXVhbGlmaWVyPUEyS1dFREtBWVUyOFExJmVuY3J5cHRlZElkPUEwNTkyOTM2M0RMQkNMV0hLMlNVQyZlbmNyeXB0ZWRBZElkPUEwNDE5MTQ4WDUxREVYUVgyVUZJJndpZGdldE5hbWU9c3BfZGV0YWlsMiZhY3Rpb249Y2xpY2tSZWRpcmVjdCZkb05vdExvZ0NsaWNrPXRydWU='\n",
    "\n",
    "headers = {\"User-Agent\": \"Mozilla/5.0 (Windows NT 10.0; Win64; x64) AppleWebKit/537.36 (KHTML, like Gecko) Chrome/107.0.0.0 Safari/537.36\", \"Accept-Encoding\":\"gzip, deflate\", \"Accept\":\"text/html,application/xhtml+xml,application/xml;q=0.9,*/*;q=0.8\", \"DNT\":\"1\",\"Connection\":\"close\", \"Upgrade-Insecure-Requests\":\"1\"}\n",
    "#To find User-Agent: https://httpbin.org/get    \n",
    "\n",
    "page = requests.get(URL, headers=headers)\n",
    "\n",
    "soup1 = BeautifulSoup(page.content, 'html.parser')\n",
    "#print(soup1)\n",
    "soup2 = BeautifulSoup(soup1.prettify(), 'html.parser')\n",
    "\n",
    "title = soup2.find(id='productTitle').get_text()\n",
    "print(title)\n",
    "\n",
    "price = soup2.find(id='corePriceDisplay_desktop_feature_div').get_text()\n",
    "print(price)\n"
   ]
  },
  {
   "cell_type": "code",
   "execution_count": 5,
   "id": "74bfe3fe",
   "metadata": {},
   "outputs": [
    {
     "name": "stdout",
     "output_type": "stream",
     "text": [
      "Science Doesnt Care What You Believe Science T-Shirt\n",
      "16.99\n",
      "                 \n",
      "\n",
      "\n",
      "                   $\n",
      "                  \n",
      "\n",
      "                   16\n",
      "                   \n",
      "                    .\n",
      "                   \n",
      "\n",
      "\n",
      "                   99\n"
     ]
    }
   ],
   "source": [
    "# Clean up the data a little bit\n",
    "price = price.strip()[1:]\n",
    "title = title.strip()\n",
    "\n",
    "print(title)\n",
    "print(price)"
   ]
  },
  {
   "cell_type": "code",
   "execution_count": 6,
   "id": "b9363ef0",
   "metadata": {},
   "outputs": [
    {
     "name": "stdout",
     "output_type": "stream",
     "text": [
      "2022-12-07\n"
     ]
    }
   ],
   "source": [
    "# Create a Timestamp for your output to track when data was collected\n",
    "import datetime\n",
    "today = datetime.date.today()\n",
    "print(today)"
   ]
  },
  {
   "cell_type": "code",
   "execution_count": 7,
   "id": "560d3e7a",
   "metadata": {},
   "outputs": [],
   "source": [
    " #Create CSV and write headers and data into the file\n",
    "import csv \n",
    "header = ['Title', 'Price', 'Date']\n",
    "data = [title, price, today]\n",
    "\n",
    "with open('AmazonWebScraperDataset.csv', 'w', newline='', encoding='UTF8') as f:\n",
    "    writer = csv.writer(f)\n",
    "    writer.writerow(header)\n",
    "    writer.writerow(data)"
   ]
  },
  {
   "cell_type": "code",
   "execution_count": 8,
   "id": "fc7facfa",
   "metadata": {},
   "outputs": [
    {
     "name": "stdout",
     "output_type": "stream",
     "text": [
      "                                               Title  \\\n",
      "0  Science Doesnt Care What You Believe Science T...   \n",
      "\n",
      "                                               Price        Date  \n",
      "0  16.99\\n                 \\n\\n\\n                ...  2022-12-07  \n"
     ]
    }
   ],
   "source": [
    "import pandas as pd\n",
    "df = pd.read_csv(r'C:\\Users\\Vasantha\\Downloads\\AmazonWebScraperDataset.csv')\n",
    "print(df)\n"
   ]
  },
  {
   "cell_type": "code",
   "execution_count": 9,
   "id": "de15f2eb",
   "metadata": {},
   "outputs": [],
   "source": [
    "# Appending data to the csv\n",
    "with open('AmazonWebScraperDataset.csv', 'a+', newline='', encoding='UTF8') as f:\n",
    "    writer = csv.writer(f)\n",
    "    writer.writerow(data)"
   ]
  },
  {
   "cell_type": "code",
   "execution_count": 10,
   "id": "a25daf51",
   "metadata": {},
   "outputs": [],
   "source": [
    "#Combine all of the above code into one function\n",
    "def check_price():\n",
    "    URL='https://www.amazon.com/dp/B0828K9D5D/ref=sspa_dk_detail_3?psc=1&pd_rd_i=B0828K9D5D&pd_rd_w=NCJCD&content-id=amzn1.sym.bff6e147-54ad-4be3-b4ea-ec19ea6167f7&pf_rd_p=bff6e147-54ad-4be3-b4ea-ec19ea6167f7&pf_rd_r=8QK4KHKWXASGC3NV9329&pd_rd_wg=llRcM&pd_rd_r=f0e8eb19-bb98-4ee1-99d7-d54144530d06&s=apparel&sp_csd=d2lkZ2V0TmFtZT1zcF9kZXRhaWwy&spLa=ZW5jcnlwdGVkUXVhbGlmaWVyPUEyS1dFREtBWVUyOFExJmVuY3J5cHRlZElkPUEwNTkyOTM2M0RMQkNMV0hLMlNVQyZlbmNyeXB0ZWRBZElkPUEwNDE5MTQ4WDUxREVYUVgyVUZJJndpZGdldE5hbWU9c3BfZGV0YWlsMiZhY3Rpb249Y2xpY2tSZWRpcmVjdCZkb05vdExvZ0NsaWNrPXRydWU='\n",
    "    headers = {\"User-Agent\": \"Mozilla/5.0 (Windows NT 10.0; Win64; x64) AppleWebKit/537.36 (KHTML, like Gecko) Chrome/107.0.0.0 Safari/537.36\", \"Accept-Encoding\":\"gzip, deflate\", \"Accept\":\"text/html,application/xhtml+xml,application/xml;q=0.9,*/*;q=0.8\", \"DNT\":\"1\",\"Connection\":\"close\", \"Upgrade-Insecure-Requests\":\"1\"}\n",
    "    \n",
    "    page = requests.get(URL, headers=headers)\n",
    "\n",
    "    soup1 = BeautifulSoup(page.content, \"html.parser\")\n",
    "\n",
    "    soup2 = BeautifulSoup(soup1.prettify(), \"html.parser\")\n",
    "\n",
    "    title = soup2.find(id='productTitle').get_text()\n",
    "\n",
    "    price = soup2.find(id='corePriceDisplay_desktop_feature_div').get_text()\n",
    "\n",
    "    price = price.strip()[1:]\n",
    "    title = title.strip()\n",
    "\n",
    "    import datetime\n",
    "\n",
    "    today = datetime.date.today()\n",
    "    \n",
    "    import csv \n",
    "\n",
    "    header = ['Title', 'Price', 'Date']\n",
    "    data = [title, price, today]\n",
    "\n",
    "    with open('AmazonWebScraperDataset.csv', 'a+', newline='', encoding='UTF8') as f:\n",
    "        writer = csv.writer(f)\n",
    "        writer.writerow(data)"
   ]
  },
  {
   "cell_type": "code",
   "execution_count": null,
   "id": "19e09f61",
   "metadata": {},
   "outputs": [],
   "source": [
    "# Runs check_price after a set time and inputs data into your CSV\n",
    "#while(True):\n",
    "    #check_price()\n",
    "    #time.sleep(86400)"
   ]
  },
  {
   "cell_type": "code",
   "execution_count": 12,
   "id": "25a18c4d",
   "metadata": {},
   "outputs": [
    {
     "name": "stdout",
     "output_type": "stream",
     "text": [
      "                                                Title  \\\n",
      "0   Science Doesnt Care What You Believe Science T...   \n",
      "1   Science Doesnt Care What You Believe Science T...   \n",
      "2   Science Doesnt Care What You Believe Science T...   \n",
      "3   Science Doesnt Care What You Believe Science T...   \n",
      "4   Science Doesnt Care What You Believe Science T...   \n",
      "5   Science Doesnt Care What You Believe Science T...   \n",
      "6   Science Doesnt Care What You Believe Science T...   \n",
      "7   Science Doesnt Care What You Believe Science T...   \n",
      "8   Science Doesnt Care What You Believe Science T...   \n",
      "9   Science Doesnt Care What You Believe Science T...   \n",
      "10  Science Doesnt Care What You Believe Science T...   \n",
      "11  Science Doesnt Care What You Believe Science T...   \n",
      "12  Science Doesnt Care What You Believe Science T...   \n",
      "13  Science Doesnt Care What You Believe Science T...   \n",
      "14  Science Doesnt Care What You Believe Science T...   \n",
      "15  Science Doesnt Care What You Believe Science T...   \n",
      "16  Science Doesnt Care What You Believe Science T...   \n",
      "17  Science Doesnt Care What You Believe Science T...   \n",
      "18  Science Doesnt Care What You Believe Science T...   \n",
      "\n",
      "                                                Price        Date  \n",
      "0   16.99\\n                 \\n\\n\\n                ...  2022-12-07  \n",
      "1   16.99\\n                 \\n\\n\\n                ...  2022-12-07  \n",
      "2   16.99\\n                 \\n\\n\\n                ...  2022-12-07  \n",
      "3   16.99\\n                 \\n\\n\\n                ...  2022-12-07  \n",
      "4   16.99\\n                 \\n\\n\\n                ...  2022-12-07  \n",
      "5   16.99\\n                 \\n\\n\\n                ...  2022-12-07  \n",
      "6   16.99\\n                 \\n\\n\\n                ...  2022-12-07  \n",
      "7   16.99\\n                 \\n\\n\\n                ...  2022-12-07  \n",
      "8   16.99\\n                 \\n\\n\\n                ...  2022-12-07  \n",
      "9   16.99\\n                 \\n\\n\\n                ...  2022-12-07  \n",
      "10  16.99\\n                 \\n\\n\\n                ...  2022-12-07  \n",
      "11  16.99\\n                 \\n\\n\\n                ...  2022-12-07  \n",
      "12  16.99\\n                 \\n\\n\\n                ...  2022-12-07  \n",
      "13  16.99\\n                 \\n\\n\\n                ...  2022-12-07  \n",
      "14  16.99\\n                 \\n\\n\\n                ...  2022-12-07  \n",
      "15  16.99\\n                 \\n\\n\\n                ...  2022-12-07  \n",
      "16  16.99\\n                 \\n\\n\\n                ...  2022-12-07  \n",
      "17  16.99\\n                 \\n\\n\\n                ...  2022-12-07  \n",
      "18  16.99\\n                 \\n\\n\\n                ...  2022-12-07  \n"
     ]
    }
   ],
   "source": [
    "import pandas as pd\n",
    "df = pd.read_csv(r'C:\\Users\\Vasantha\\Downloads\\AmazonWebScraperDataset.csv')\n",
    "print(df)\n"
   ]
  },
  {
   "cell_type": "code",
   "execution_count": 13,
   "id": "2e15c5a8",
   "metadata": {},
   "outputs": [],
   "source": [
    "# If we want to try sending yourself an email(Just to try)when a price hits below a certain level \n",
    "def send_mail():\n",
    "    server = smtplib.SMTP_SSL('smtp.gmail.com',465)\n",
    "    server.ehlo()\n",
    "    #server.starttls()\n",
    "    server.ehlo()\n",
    "    server.login('arpithavins@gmail.com','xxxxxxxxxxxxxx')\n",
    "    \n",
    "    subject = \"The Shirt you want is below $15! Now is your chance to buy!\"\n",
    "    body = \"AV, This is the moment we have been waiting for. Now is your chance to pick up the shirt of your dreams. Don't mess it up! Link here: URL='https://www.amazon.com/dp/B0828K9D5D/ref=sspa_dk_detail_3?psc=1&pd_rd_i=B0828K9D5D&pd_rd_w=NCJCD&content-id=amzn1.sym.bff6e147-54ad-4be3-b4ea-ec19ea6167f7&pf_rd_p=bff6e147-54ad-4be3-b4ea-ec19ea6167f7&pf_rd_r=8QK4KHKWXASGC3NV9329&pd_rd_wg=llRcM&pd_rd_r=f0e8eb19-bb98-4ee1-99d7-d54144530d06&s=apparel&sp_csd=d2lkZ2V0TmFtZT1zcF9kZXRhaWwy&spLa=ZW5jcnlwdGVkUXVhbGlmaWVyPUEyS1dFREtBWVUyOFExJmVuY3J5cHRlZElkPUEwNTkyOTM2M0RMQkNMV0hLMlNVQyZlbmNyeXB0ZWRBZElkPUEwNDE5MTQ4WDUxREVYUVgyVUZJJndpZGdldE5hbWU9c3BfZGV0YWlsMiZhY3Rpb249Y2xpY2tSZWRpcmVjdCZkb05vdExvZ0NsaWNrPXRydWU=\"  \n",
    "    msg = f\"Subject: {subject}\\n\\n{body}\"\n",
    "    \n",
    "    server.sendmail(\n",
    "        'arpithavins@gmail.com',\n",
    "        msg\n",
    "     \n",
    "    )"
   ]
  },
  {
   "cell_type": "code",
   "execution_count": null,
   "id": "a0c19c72",
   "metadata": {},
   "outputs": [],
   "source": []
  },
  {
   "cell_type": "code",
   "execution_count": null,
   "id": "53cb6806",
   "metadata": {},
   "outputs": [],
   "source": []
  },
  {
   "cell_type": "code",
   "execution_count": null,
   "id": "a70c5223",
   "metadata": {},
   "outputs": [],
   "source": []
  },
  {
   "cell_type": "code",
   "execution_count": null,
   "id": "44e5a2d3",
   "metadata": {},
   "outputs": [],
   "source": []
  },
  {
   "cell_type": "code",
   "execution_count": null,
   "id": "220d9826",
   "metadata": {},
   "outputs": [],
   "source": []
  },
  {
   "cell_type": "code",
   "execution_count": null,
   "id": "a718c714",
   "metadata": {},
   "outputs": [],
   "source": []
  }
 ],
 "metadata": {
  "kernelspec": {
   "display_name": "Python 3 (ipykernel)",
   "language": "python",
   "name": "python3"
  },
  "language_info": {
   "codemirror_mode": {
    "name": "ipython",
    "version": 3
   },
   "file_extension": ".py",
   "mimetype": "text/x-python",
   "name": "python",
   "nbconvert_exporter": "python",
   "pygments_lexer": "ipython3",
   "version": "3.9.7"
  }
 },
 "nbformat": 4,
 "nbformat_minor": 5
}
